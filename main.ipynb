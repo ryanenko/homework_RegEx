{
 "cells": [
  {
   "cell_type": "code",
   "execution_count": 38,
   "metadata": {},
   "outputs": [],
   "source": [
    "from pprint import pprint\n",
    "import csv\n",
    "import re\n",
    "\n",
    "Pattern_phone = r\"(\\+7|8)*[\\s\\(]*(\\d{3})[\\s\\)\\-]*(\\d{3})[\\s\\)\\-]*(\\d{2})[\\s\\-]*(\\d{2})[\\s\\-\\)\\(]*(\\доб.)*[\\s\\-\\.\\(]*(\\d{4})*[\\s\\-\\.\\)]*\"\n",
    "Pattern_sub_phone = r\"+7(\\2)\\3-\\4-\\5 \\6\\7\"\n",
    "\n",
    "\n",
    "with open(\"phonebook_raw.csv\", encoding='utf-8') as f:\n",
    "    rows = csv.reader(f, delimiter=\",\")\n",
    "    contacts_list = list(rows)\n",
    "        \n",
    "\n",
    "contact_list_new = []\n",
    "for contacts in contacts_list:\n",
    " \n",
    "    contact =  ' '.join(contacts[:3]).split(' ')\n",
    "    result = [contact[0], contact[1], contact[2], contacts[3], contacts[4], re.sub(Pattern_phone, Pattern_sub_phone, contacts[5]),\n",
    "     contacts[6]]\n",
    "    contact_list_new.append(result)\n",
    "    \n",
    "\n",
    "for abonent in contact_list_new:\n",
    "    lastname = abonent[0]\n",
    "    firstname = abonent[1]\n",
    "    for abonent_new in contact_list_new:\n",
    "        lastname_new = abonent_new[0]\n",
    "        firstname_new = abonent_new[1]\n",
    "        if lastname == lastname_new and firstname == firstname_new:\n",
    "            if abonent[2] == '' :\n",
    "                abonent[2] = abonent_new[2]\n",
    "            if abonent[3] == '' :\n",
    "                abonent[3] = abonent_new[3]\n",
    "            if abonent[4] == '' :\n",
    "                abonent[4] = abonent_new[4]\n",
    "            if abonent[5] == '' :\n",
    "                abonent[5] = abonent_new[5]\n",
    "            if abonent[6] == '' :\n",
    "                abonent[6] = abonent_new[6]    \n",
    "abonent_list = []\n",
    "for i in contact_list_new:\n",
    "    if i not in abonent_list:\n",
    "        abonent_list.append(i)\n",
    "\n",
    "with open(\"phonebook.csv\", \"w\", encoding='utf-8') as f:\n",
    "  datawriter = csv.writer(f, delimiter=',')\n",
    "  datawriter.writerows(abonent_list)"
   ]
  }
 ],
 "metadata": {
  "kernelspec": {
   "display_name": "venv",
   "language": "python",
   "name": "python3"
  },
  "language_info": {
   "codemirror_mode": {
    "name": "ipython",
    "version": 3
   },
   "file_extension": ".py",
   "mimetype": "text/x-python",
   "name": "python",
   "nbconvert_exporter": "python",
   "pygments_lexer": "ipython3",
   "version": "3.10.8"
  },
  "orig_nbformat": 4,
  "vscode": {
   "interpreter": {
    "hash": "32953a3dbcff1bfb3911ab6c51f49ba11aa61de25f1b31e848a54c912a9202a3"
   }
  }
 },
 "nbformat": 4,
 "nbformat_minor": 2
}
